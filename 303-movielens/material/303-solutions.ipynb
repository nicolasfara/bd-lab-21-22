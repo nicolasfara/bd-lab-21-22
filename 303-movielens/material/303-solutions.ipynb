{
 "cells": [
  {
   "source": [
    "# 303 Spark - Movielens\n",
    "\n",
    "The goal of this lab is to run some analysis on a different dataset, [MovieLens](https://grouplens.org/datasets/movielens/).\n",
    "\n",
    "- [Spark programming guide](https://spark.apache.org/docs/latest/rdd-programming-guide.html)\n",
    "- [RDD APIs](https://spark.apache.org/docs/latest/api/scala/org/apache/spark/rdd/RDD.html)\n",
    "- [PairRDD APIs](https://spark.apache.org/docs/latest/api/scala/org/apache/spark/rdd/PairRDDFunctions.html)\n",
    "\n",
    "This lab's notebook is in the ```material``` folder; the solutions will be released in the same folder.\n",
    "\n",
    "The cluster configuration should be the same from 301 and 302.\n",
    "\n",
    "Download the dataset [here](https://big.csr.unibo.it/downloads/bigdata/ml-dataset.zip), unzip it and upload the files to S3.\n",
    "\n",
    "- ml_movies.csv (<u>movieId</u>:Long, title:String, genres:String) \n",
    "    - genres are separated by pipelines  (e.g., \"comedy|drama|action\")\n",
    "    - each movie is associated with many ratings\n",
    "\n",
    "- ml_ratings.csv (<u>userId</u>:Long, <u>movieId</u>:Long, rating:Double, year:Int)\n",
    "    - each rating is associated with many tags\n",
    "- ml_tags.csv (<u>userId</u>:Long, <u>movieId</u>:Long, <u>tag</u>:String, year:Int) "
   ],
   "cell_type": "markdown",
   "metadata": {
    "execution": {
     "iopub.execute_input": "2022-02-28T15:34:09.444324Z",
     "iopub.status.busy": "2022-02-28T15:34:09.441785Z",
     "iopub.status.idle": "2022-02-28T15:34:10.302913Z",
     "shell.execute_reply": "2022-02-28T15:34:10.302209Z",
     "shell.execute_reply.started": "2022-02-28T15:34:09.444282Z"
    }
   }
  },
  {
   "cell_type": "code",
   "execution_count": null,
   "id": "5a78c104-6d6f-48e6-b5ea-5880254f5cb1",
   "metadata": {},
   "outputs": [],
   "source": [
    "%%configure -f\n",
    "{\"executorMemory\":\"8G\", \"numExecutors\":2, \"executorCores\":3, \"conf\": {\"spark.dynamicAllocation.enabled\": \"false\"}}"
   ]
  },
  {
   "cell_type": "code",
   "execution_count": null,
   "id": "6297e3f5-17d3-44ba-a06c-8b1acf0ca078",
   "metadata": {
    "tags": []
   },
   "outputs": [],
   "source": [
    "val bucketname = \"unibo-bd2122-egallinucci\"\n",
    "\n",
    "val path_ml_movies = \"s3a://\"+bucketname+\"/first-datasets/ml-movies.csv\"\n",
    "val path_ml_ratings = \"s3a://\"+bucketname+\"/first-datasets/ml-ratings.csv\"\n",
    "val path_ml_tags = \"s3a://\"+bucketname+\"/first-datasets/ml-tags.csv\"\n",
    "\n",
    "sc.applicationId\n",
    "\n",
    "\"SPARK UI: Enable forwarding of port 20888 and connect to http://localhost:20888/proxy/\" + sc.applicationId + \"/\""
   ]
  },
  {
   "cell_type": "code",
   "execution_count": null,
   "id": "e643e27d-b710-43cb-bc3d-7bca65e93b15",
   "metadata": {
    "tags": []
   },
   "outputs": [],
   "source": [
    "import java.util.Calendar\n",
    "import org.apache.spark.sql.SaveMode\n",
    "import org.apache.spark.HashPartitioner\n",
    "\n",
    "object MovieLensParser {\n",
    "\n",
    "  val noGenresListed = \"(no genres listed)\"\n",
    "  val commaRegex = \",(?=(?:[^\\\"]*\\\"[^\\\"]*\\\")*[^\\\"]*$)\"\n",
    "  val pipeRegex = \"\\\\|(?=(?:[^\\\"]*\\\"[^\\\"]*\\\")*[^\\\"]*$)\"\n",
    "  val quotes = \"\\\"\"\n",
    "  \n",
    "  /** Convert from timestamp (String) to year (Int) */\n",
    "  def yearFromTimestamp(timestamp: String): Int = {\n",
    "    val cal = Calendar.getInstance()\n",
    "    cal.setTimeInMillis(timestamp.trim.toLong * 1000L)\n",
    "    cal.get(Calendar.YEAR)\n",
    "  }\n",
    "\n",
    "  /** Function to parse movie records\n",
    "   *\n",
    "   *  @param line line that has to be parsed\n",
    "   *  @return tuple containing movieId, title and genres, none in case of input errors\n",
    "   */\n",
    "  def parseMovieLine(line: String): Option[(Long, String, String)] = {\n",
    "    try {\n",
    "      val input = line.split(commaRegex)\n",
    "      var title = input(1).trim\n",
    "      title = if(title.startsWith(quotes)) title.substring(1) else title\n",
    "      title = if(title.endsWith(quotes)) title.substring(0, title.length - 1) else title\n",
    "      Some(input(0).trim.toLong, title, input(2).trim)\n",
    "    } catch {\n",
    "      case _: Exception => None\n",
    "    }\n",
    "  }\n",
    "\n",
    "  /** Function to parse rating records\n",
    "   *\n",
    "   *  @param line line that has to be parsed\n",
    "   *  @return tuple containing userId, movieId, rating, and year none in case of input errors\n",
    "   */\n",
    "  def parseRatingLine(line: String): Option[(Long, Long, Double, Int)] = {\n",
    "    try {\n",
    "      val input = line.split(commaRegex)\n",
    "      Some(input(0).trim.toLong, input(1).trim.toLong, input(2).trim.toDouble, yearFromTimestamp(input(3)))\n",
    "    } catch {\n",
    "      case _: Exception => None\n",
    "    }\n",
    "  }\n",
    "\n",
    "  /** Function to parse tag records\n",
    "   *\n",
    "   *  @param line line that has to be parsed\n",
    "   *  @return tuple containing userId, movieId, tag, and year, none in case of input errors\n",
    "   */\n",
    "  def parseTagLine(line: String) : Option[(Long, Long, String, Int)] = {\n",
    "    try {\n",
    "      val input = line.split(commaRegex)\n",
    "      Some(input(0).trim.toLong, input(1).trim.toLong, input(2), yearFromTimestamp(input(3)))\n",
    "    } catch {\n",
    "      case _: Exception => None\n",
    "    }\n",
    "  }\n",
    "\n",
    "}"
   ]
  },
  {
   "cell_type": "code",
   "execution_count": null,
   "id": "3e69ae6f-50f6-4e2f-9fe8-ff6d747e675f",
   "metadata": {
    "tags": []
   },
   "outputs": [],
   "source": [
    "val rddMovies = sc.textFile(path_ml_movies).flatMap(MovieLensParser.parseMovieLine)\n",
    "val rddRatings = sc.textFile(path_ml_ratings).flatMap(MovieLensParser.parseRatingLine)\n",
    "val rddTags = sc.textFile(path_ml_tags).flatMap(MovieLensParser.parseTagLine)"
   ]
  },
  {
   "cell_type": "markdown",
   "id": "d9dfbdfd-2ee7-4488-a95f-9f1f809e581c",
   "metadata": {
    "execution": {
     "iopub.execute_input": "2022-02-28T15:59:00.715374Z",
     "iopub.status.busy": "2022-02-28T15:59:00.715148Z",
     "iopub.status.idle": "2022-02-28T15:59:01.005430Z",
     "shell.execute_reply": "2022-02-28T15:59:01.004685Z",
     "shell.execute_reply.started": "2022-02-28T15:59:00.715351Z"
    },
    "tags": []
   },
   "source": [
    "## 303-1 Datasets exploration\n",
    "\n",
    "Cache the dataset and answer the following questions:\n",
    "\n",
    "- How many (distinct) users, movies, ratings, and tags?\n",
    "- How many (distinct) genres?\n",
    "- On average, how many ratings per user?\n",
    "- On average, how many ratings per movie?\n",
    "- On average, how many genres per movie?\n",
    "- What is the range of ratings?\n",
    "- Which years? (print an ordered list)\n",
    "- On average, how many ratings per year?"
   ]
  },
  {
   "cell_type": "code",
   "execution_count": null,
   "id": "1f07a5b9-baaf-4564-8988-33e23ced42ea",
   "metadata": {
    "tags": []
   },
   "outputs": [],
   "source": [
    "val rddMoviesCached = rddMovies.cache()\n",
    "val rddRatingsCached = rddRatings.cache()\n",
    "val rddTagsCached = rddTags.cache()\n",
    "\n",
    "rddMoviesCached.count()\n",
    "rddRatingsCached.count()\n",
    "rddTagsCached.count()"
   ]
  },
  {
   "cell_type": "code",
   "execution_count": null,
   "id": "4d918f35-5f6d-48d5-9d2d-ec1db66014b3",
   "metadata": {
    "tags": []
   },
   "outputs": [],
   "source": [
    "\"Number of movies: \" + rddMoviesCached.count()\n",
    "\"Number of ratings: \" + rddRatingsCached.count()\n",
    "\"Number of tags: \" + rddTags.map(x => (x._3)).distinct().count()\n",
    "\"Number of users: \" + rddRatingsCached.map(x => (x._1)).distinct().count()"
   ]
  },
  {
   "cell_type": "code",
   "execution_count": null,
   "id": "fbc8a414-9724-481d-b6a0-20a3c9557936",
   "metadata": {
    "tags": []
   },
   "outputs": [],
   "source": [
    "\"Number of genres: \" + rddMoviesCached.flatMap(x => x._3.split('|')).distinct().count()"
   ]
  },
  {
   "cell_type": "code",
   "execution_count": null,
   "id": "b2813d56-43dc-4dda-992d-881c31ce8f43",
   "metadata": {
    "tags": []
   },
   "outputs": [],
   "source": [
    "val avgRatPerUser = rddRatingsCached.map(x => (x._1,1)).reduceByKey(_+_).aggregate((0,0))((a,v)=>(a._1+v._2, a._2+1),(a1,a2)=>(a1._1+a2._1,a1._2+a2._2))\n",
    "\"Number of ratings per user: \" + (avgRatPerUser._1/avgRatPerUser._2)"
   ]
  },
  {
   "cell_type": "code",
   "execution_count": null,
   "id": "014c42d5-6303-4e7a-8399-83a22ca14572",
   "metadata": {
    "tags": []
   },
   "outputs": [],
   "source": [
    "val avgRatPerMovie = rddRatingsCached.map(x => (x._2,1)).reduceByKey(_+_).aggregate((0,0))((a,v)=>(a._1+v._2, a._2+1),(a1,a2)=>(a1._1+a2._1,a1._2+a2._2))\n",
    "\"Number of ratings per movie: \" + (avgRatPerMovie._1/avgRatPerMovie._2)"
   ]
  },
  {
   "cell_type": "code",
   "execution_count": null,
   "id": "00d8e9bc-cdba-4e25-9d7e-18cdfc348da7",
   "metadata": {
    "tags": []
   },
   "outputs": [],
   "source": [
    "val avgGenresPerMovie = rddMoviesCached.\n",
    "    map(x => (x._1,x._3)).\n",
    "    flatMapValues(_.split('|')).\n",
    "    countByKey().\n",
    "    aggregate((0.0,0.0))((a,v)=>(a._1+v._2, a._2+1),(a1,a2)=>(a1._1+a2._1,a1._2+a2._2))\n",
    "\"Number of genres per movie: \" + (avgGenresPerMovie._1/avgGenresPerMovie._2)"
   ]
  },
  {
   "cell_type": "code",
   "execution_count": null,
   "id": "411b959e-d491-4227-be6c-7eda9481c398",
   "metadata": {
    "tags": []
   },
   "outputs": [],
   "source": [
    "\"Range of ratings: \" + rddRatingsCached.map(x=>x._3).min() + \" to \" + rddRatingsCached.map(x=>x._3).max()"
   ]
  },
  {
   "cell_type": "code",
   "execution_count": null,
   "id": "eb8a02b5-5a11-454d-a305-0dee6c14e340",
   "metadata": {
    "tags": []
   },
   "outputs": [],
   "source": [
    "\"Ordered list of years: \" + rddRatingsCached.map(x=>x._4).distinct().collect().sorted"
   ]
  },
  {
   "cell_type": "code",
   "execution_count": null,
   "id": "c0a91679-9d2b-4347-b412-7449a5196637",
   "metadata": {
    "tags": []
   },
   "outputs": [],
   "source": [
    "val avgRatPerYear = rddRatingsCached.map(x=>(x._4,1)).reduceByKey(_+_).aggregate((0,0))((a,v)=>(a._1+v._2, a._2+1),(a1,a2)=>(a1._1+a2._1,a1._2+a2._2))\n",
    "\"Number of ratings per year: \" + (avgRatPerYear._1/avgRatPerYear._2)"
   ]
  },
  {
   "cell_type": "markdown",
   "id": "9a4016ac-cb34-48d0-a45c-29122e5fa59a",
   "metadata": {},
   "source": [
    "## 303-2 Compute the average rating for each movie\n",
    "\n",
    "- Export the result to S3\n",
    "- Do not start from cached RDDs\n",
    "- Evaluate:\n",
    "  - Join-and-Aggregate vs Aggregate-and-Join\n",
    "  - Best join vs broadcast\n",
    "- Use Tableau to check the results\n",
    "  - Download the file from S3 instead of connecting to S3"
   ]
  },
  {
   "cell_type": "code",
   "execution_count": null,
   "id": "feb49547-58f9-4994-929a-da867e2e4cc6",
   "metadata": {
    "tags": []
   },
   "outputs": [],
   "source": [
    "val path_output_avgRatPerMovie = \"s3a://\"+bucketname+\"/spark/avgRatPerMovie\"\n",
    "// rdd.coalesce(1).toDF().write.format(\"csv\").mode(SaveMode.Overwrite).save(path_output_avgRatPerMovie)\n",
    "\n",
    "sc.getPersistentRDDs.foreach(_._2.unpersist())"
   ]
  },
  {
   "cell_type": "markdown",
   "id": "dd4fdb9c-7a73-43a0-a121-fe98dc71ea02",
   "metadata": {},
   "source": [
    "### Join-and-Aggregate vs Aggregate-and-Join"
   ]
  },
  {
   "cell_type": "code",
   "execution_count": null,
   "id": "35060678-a714-4871-a0ee-bd6d1149c2c9",
   "metadata": {
    "tags": []
   },
   "outputs": [],
   "source": [
    "val rddMoviesKV = rddMovies.map(x => ((x._1),(x._2)))\n",
    "val avgRatPerMovie = rddRatings.\n",
    "    map(x => ((x._2),(x._3))).\n",
    "    join(rddMoviesKV).\n",
    "    map(x => (x._2._2,x._2._1)).\n",
    "    aggregateByKey((0.0,0.0))((a,v)=>(a._1+v, a._2+1),(a1,a2)=>(a1._1+a2._1,a1._2+a2._2)).\n",
    "    map(x => (x._1, x._2._1/x._2._2, x._2._2)).\n",
    "    coalesce(1).\n",
    "    toDF().write.format(\"csv\").mode(SaveMode.Overwrite).save(path_output_avgRatPerMovie)"
   ]
  },
  {
   "cell_type": "code",
   "execution_count": null,
   "id": "45bddac2-b5b0-4eee-b34d-312877a7262e",
   "metadata": {},
   "outputs": [],
   "source": [
    "val rddMoviesKV = rddMovies.map(x => ((x._1),(x._2)))\n",
    "val avgRatPerMovie = rddRatings.\n",
    "    map(x => ((x._2),(x._3))).\n",
    "    aggregateByKey((0.0,0.0))((a,v)=>(a._1+v, a._2+1),(a1,a2)=>(a1._1+a2._1,a1._2+a2._2)).\n",
    "    mapValues(x => (x._1/x._2, x._2)).\n",
    "    join(rddMoviesKV).\n",
    "    map(x => (x._2._2,x._2._1._1,x._2._1._2)).\n",
    "    coalesce(1).\n",
    "    toDF().write.format(\"csv\").mode(SaveMode.Overwrite).save(path_output_avgRatPerMovie)\n",
    "\n",
    "//avgRatPerMovie.toDebugString"
   ]
  },
  {
   "cell_type": "markdown",
   "id": "887bbb2f-5b97-4918-ae8c-dd98f252a6e6",
   "metadata": {},
   "source": [
    "Most of the time is spent in just reading the data; nonetheless, aggregating BEFORE joining effectively reduces execution times\n",
    "\n",
    "### Best join vs broadcast"
   ]
  },
  {
   "cell_type": "code",
   "execution_count": null,
   "id": "d17c7e50-802a-46e7-b522-2269e23c0085",
   "metadata": {
    "tags": []
   },
   "outputs": [],
   "source": [
    "val rddMoviesKV = rddMovies.map(x => ((x._1),(x._2)))\n",
    "val bRddMovies = sc.broadcast(rddMoviesKV.collectAsMap())\n",
    "val avgRatPerMovie = rddRatings.\n",
    "    map(x => ((x._2),(x._3))).\n",
    "    aggregateByKey((0.0,0.0))((a,v)=>(a._1+v, a._2+1),(a1,a2)=>(a1._1+a2._1,a1._2+a2._2)).\n",
    "    mapValues(x => (x._1/x._2, x._2)).\n",
    "    map({case (k,v) => (k,(v,bRddMovies.value.get(k)))}).\n",
    "    map(x => (x._2._2,x._2._1._1,x._2._1._2)).\n",
    "    coalesce(1).\n",
    "    toDF().write.format(\"csv\").mode(SaveMode.Overwrite).save(path_output_avgRatPerMovie)"
   ]
  },
  {
   "cell_type": "markdown",
   "id": "c07050d2-4447-4765-814d-2cd0ff1402c1",
   "metadata": {},
   "source": [
    "## 303-3 Genres\n",
    "\n",
    "Make a chart of best-ranked genres, export the result to S3, then use Tableau to check it.\n",
    "\n",
    "Use cached RDDs.\n",
    "\n",
    "Two possible workflows:\n",
    "\n",
    "1. Pre-aggregation (3 shuffles)\n",
    "\n",
    "  - Aggregate ratings by movieId\n",
    "  - Join with movies and map to genres\n",
    "  - Aggregate by genres\n",
    "  \n",
    "2. Join & aggregate (2 shuffles)\n",
    "\n",
    "  - Join with movies and map to genres\n",
    "  - Aggregate by genres\n",
    "\n"
   ]
  },
  {
   "cell_type": "code",
   "execution_count": null,
   "id": "191a8f82-2006-49a6-9a99-9de6638df74a",
   "metadata": {
    "tags": []
   },
   "outputs": [],
   "source": [
    "val path_output_avgRatPerGenre = \"s3a://\"+bucketname+\"/spark/avgRatPerGenre\"\n",
    "\n",
    "for ((k,v) <- sc.getPersistentRDDs) {\n",
    "  v.unpersist()\n",
    "}"
   ]
  },
  {
   "cell_type": "markdown",
   "id": "985714c8-c217-444d-a245-4a6e5731c037",
   "metadata": {
    "execution": {
     "iopub.execute_input": "2022-03-02T17:35:22.047867Z",
     "iopub.status.busy": "2022-03-02T17:35:22.047594Z",
     "iopub.status.idle": "2022-03-02T17:35:22.815952Z",
     "shell.execute_reply": "2022-03-02T17:35:22.815275Z",
     "shell.execute_reply.started": "2022-03-02T17:35:22.047840Z"
    },
    "tags": []
   },
   "source": [
    "Which is better?\n",
    "\n",
    "1. Pre-aggregation (3 shuffles)\n",
    "\n",
    "  - Aggregate ratings by movieId\n",
    "    - Input: 724MB (there are 28M ratings, it's ~26B per rating)\n",
    "    - Output: ~1.5MB (there are 58K movies)\n",
    "  - Join with movies and map to genres\n",
    "    - Input: ~1.5MB + 2.7MB (there are 58K movies, it's ~47B per movie)\n",
    "    - Output: ~6MB (considering 47B per record and 2 genres per movie)\n",
    "  - Aggregate by genres\n",
    "    - Input: ~6MB\n",
    "    - Output: ~1KB (considering 47B per record and that there are 20 genres)\n",
    "  \n",
    "2. Join & aggregate (2 shuffles)\n",
    "\n",
    "  - Join with movies and map to genres\n",
    "    - Input: 724MB + 2.7MB\n",
    "    - Output: ~1.4GB (considering 47B per record and 2 genres per movie)\n",
    "  - Aggregate by genres\n",
    "    - Input: ~1.4GB\n",
    "    - Output: ~1KB\n",
    "\n",
    "Let's verify it."
   ]
  },
  {
   "cell_type": "code",
   "execution_count": null,
   "id": "f66c2d7f-4e5b-4ecd-b0a2-8f1f3c6c0a0e",
   "metadata": {
    "tags": []
   },
   "outputs": [],
   "source": [
    "val rddMoviesKV = rddMovies.map(x => (x._1,x._3)).flatMapValues(x => x.split('|'))\n",
    "val avgRatPerGenre = rddRatings.\n",
    "    map(x => (x._2,x._3)).\n",
    "    aggregateByKey((0.0,0.0))((a,v)=>(a._1+v, a._2+1),(a1,a2)=>(a1._1+a2._1,a1._2+a2._2)).\n",
    "    join(rddMoviesKV).\n",
    "    map(x => (x._2._2,(x._2._1._1,x._2._1._2))).\n",
    "    aggregateByKey((0.0,0.0))((a,v)=>(a._1+v._1, a._2+v._2),(a1,a2)=>(a1._1+a2._1,a1._2+a2._2)).\n",
    "    map(x => (x._1, x._2._1/x._2._2, x._2._2)).\n",
    "    coalesce(1).\n",
    "    toDF().write.format(\"csv\").mode(SaveMode.Overwrite).save(path_output_avgRatPerGenre)"
   ]
  },
  {
   "cell_type": "code",
   "execution_count": null,
   "id": "69863fe6-10f7-49d2-b3d1-ace0c1b5f56f",
   "metadata": {
    "tags": []
   },
   "outputs": [],
   "source": [
    "val rddMoviesKV = rddMovies.map(x => (x._1,x._3)).flatMapValues(x => x.split('|'))\n",
    "val avgRatPerGenre = rddRatings.\n",
    "    map(x => (x._2,x._3)).\n",
    "    join(rddMoviesKV).\n",
    "    map(x => (x._2._2,x._2._1)).\n",
    "    aggregateByKey((0.0,0.0))((a,v)=>(a._1+v, a._2+1),(a1,a2)=>(a1._1+a2._1,a1._2+a2._2)).\n",
    "    map(x => (x._1, x._2._1/x._2._2, x._2._2)).\n",
    "    coalesce(1).\n",
    "    toDF().write.format(\"csv\").mode(SaveMode.Overwrite).save(path_output_avgRatPerGenre)"
   ]
  },
  {
   "cell_type": "markdown",
   "id": "75b0c931-de93-4d25-9ef7-d798dcd0f0ad",
   "metadata": {},
   "source": [
    "The first one is definetely better!"
   ]
  },
  {
   "cell_type": "markdown",
   "id": "b561f111-ba3f-4d78-a824-38377ace82b1",
   "metadata": {},
   "source": [
    "## 303-4 Tags\n",
    "\n",
    "What can you find out about tags?"
   ]
  }
 ],
 "metadata": {
  "kernelspec": {
   "display_name": "Spark",
   "language": "",
   "name": "sparkkernel"
  },
  "language_info": {
   "codemirror_mode": "text/x-scala",
   "mimetype": "text/x-scala",
   "name": "scala",
   "pygments_lexer": "scala"
  }
 },
 "nbformat": 4,
 "nbformat_minor": 5
}