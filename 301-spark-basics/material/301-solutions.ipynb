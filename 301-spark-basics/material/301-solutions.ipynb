{
 "cells": [
  {
   "cell_type": "markdown",
   "id": "7dd7243a-b7d3-4e47-b3ec-49cafdebada5",
   "metadata": {},
   "source": [
    "# 301 Spark basics\n",
    "\n",
    "The goal of this lab is to get familiar with Spark programming.\n",
    "\n",
    "- [Spark programming guide](https://spark.apache.org/docs/latest/rdd-programming-guide.html)\n",
    "- [RDD APIs](https://spark.apache.org/docs/latest/api/scala/org/apache/spark/rdd/RDD.html)\n",
    "- [PairRDD APIs](https://spark.apache.org/docs/latest/api/scala/org/apache/spark/rdd/PairRDDFunctions.html)\n",
    "\n",
    "## 301-2 Running a sample Spark job\n",
    "\n",
    "Goal: calculate the average temperature for every month; dataset is ```weather-sample1```."
   ]
  },
  {
   "cell_type": "code",
   "execution_count": 1,
   "id": "9323446c-bdfe-4eff-b87a-ce57f7c840b1",
   "metadata": {
    "execution": {
     "iopub.execute_input": "2022-03-13T16:05:43.124672Z",
     "iopub.status.busy": "2022-03-13T16:05:43.124345Z",
     "iopub.status.idle": "2022-03-13T16:06:16.072067Z",
     "shell.execute_reply": "2022-03-13T16:06:16.071365Z",
     "shell.execute_reply.started": "2022-03-13T16:05:43.124631Z"
    },
    "tags": []
   },
   "outputs": [
    {
     "data": {
      "application/vnd.jupyter.widget-view+json": {
       "model_id": "bff8979d1f6c4f618c477c655d848eb0",
       "version_major": 2,
       "version_minor": 0
      },
      "text/plain": [
       "VBox()"
      ]
     },
     "metadata": {},
     "output_type": "display_data"
    },
    {
     "name": "stdout",
     "output_type": "stream",
     "text": [
      "Starting Spark application\n"
     ]
    },
    {
     "data": {
      "text/html": [
       "<table>\n",
       "<tr><th>ID</th><th>YARN Application ID</th><th>Kind</th><th>State</th><th>Spark UI</th><th>Driver log</th><th>Current session?</th></tr><tr><td>0</td><td>application_1647187270179_0002</td><td>spark</td><td>idle</td><td><a target=\"_blank\" href=\"http://ip-172-31-94-50.ec2.internal:20888/proxy/application_1647187270179_0002/\" class=\"emr-proxy-link\" emr-resource=\"j-G2N2WMTUTYZY\n",
       "\" application-id=\"application_1647187270179_0002\">Link</a></td><td><a target=\"_blank\" href=\"http://ip-172-31-94-188.ec2.internal:8042/node/containerlogs/container_1647187270179_0002_01_000001/livy\" >Link</a></td><td>✔</td></tr></table>"
      ],
      "text/plain": [
       "<IPython.core.display.HTML object>"
      ]
     },
     "metadata": {},
     "output_type": "display_data"
    },
    {
     "data": {
      "application/vnd.jupyter.widget-view+json": {
       "model_id": "",
       "version_major": 2,
       "version_minor": 0
      },
      "text/plain": [
       "FloatProgress(value=0.0, bar_style='info', description='Progress:', layout=Layout(height='25px', width='50%'),…"
      ]
     },
     "metadata": {},
     "output_type": "display_data"
    },
    {
     "name": "stdout",
     "output_type": "stream",
     "text": [
      "SparkSession available as 'spark'.\n"
     ]
    },
    {
     "data": {
      "application/vnd.jupyter.widget-view+json": {
       "model_id": "",
       "version_major": 2,
       "version_minor": 0
      },
      "text/plain": [
       "FloatProgress(value=0.0, bar_style='info', description='Progress:', layout=Layout(height='25px', width='50%'),…"
      ]
     },
     "metadata": {},
     "output_type": "display_data"
    },
    {
     "name": "stdout",
     "output_type": "stream",
     "text": [
      "bucketname: String = eg-myfirstbucket\n",
      "rddWeather: org.apache.spark.rdd.RDD[String] = s3a://eg-myfirstbucket/datasets/weather-sample1.txt MapPartitionsRDD[1] at textFile at <console>:28\n"
     ]
    }
   ],
   "source": [
    "val bucketname = \"unibo-bd2122-egallinucci\"\n",
    "\n",
    "val rddWeather = sc.textFile(\"s3a://\"+bucketname+\"/datasets/weather-sample1.txt\")"
   ]
  },
  {
   "cell_type": "code",
   "execution_count": 2,
   "id": "09a5830c-1cd8-4f3a-bfc5-f91e9aa8d87f",
   "metadata": {
    "execution": {
     "iopub.execute_input": "2022-03-13T16:06:16.073841Z",
     "iopub.status.busy": "2022-03-13T16:06:16.073408Z",
     "iopub.status.idle": "2022-03-13T16:06:25.534713Z",
     "shell.execute_reply": "2022-03-13T16:06:25.534118Z",
     "shell.execute_reply.started": "2022-03-13T16:06:16.073803Z"
    },
    "tags": []
   },
   "outputs": [
    {
     "data": {
      "application/vnd.jupyter.widget-view+json": {
       "model_id": "a6d3e15d94cb44f29f62aeec0854ecdf",
       "version_major": 2,
       "version_minor": 0
      },
      "text/plain": [
       "VBox()"
      ]
     },
     "metadata": {},
     "output_type": "display_data"
    },
    {
     "data": {
      "application/vnd.jupyter.widget-view+json": {
       "model_id": "",
       "version_major": 2,
       "version_minor": 0
      },
      "text/plain": [
       "FloatProgress(value=0.0, bar_style='info', description='Progress:', layout=Layout(height='25px', width='50%'),…"
      ]
     },
     "metadata": {},
     "output_type": "display_data"
    },
    {
     "name": "stdout",
     "output_type": "stream",
     "text": [
      "parseWeatherLine: (line: String)(String, Double)\n",
      "rddWeatherKv: org.apache.spark.rdd.RDD[(String, Double)] = MapPartitionsRDD[2] at map at <console>:29\n",
      "rddTempDataPerMonth: org.apache.spark.rdd.RDD[(String, (Double, Double))] = ShuffledRDD[3] at aggregateByKey at <console>:26\n",
      "rddAvgTempPerMonth: org.apache.spark.rdd.RDD[(String, Double)] = MapPartitionsRDD[4] at map at <console>:26\n",
      "rddCached: org.apache.spark.rdd.RDD[(String, Double)] = CoalescedRDD[8] at coalesce at <console>:26\n"
     ]
    }
   ],
   "source": [
    "def parseWeatherLine(line:String):(String,Double) = {\n",
    "  val year = line.substring(15,19)\n",
    "  val month = line.substring(19,21)\n",
    "  val day = line.substring(21,23)\n",
    "  var temp = line.substring(87,92).toInt\n",
    "  (month, temp/10)\n",
    "}\n",
    "\n",
    "// Parse records\n",
    "val rddWeatherKv = rddWeather.map(x => parseWeatherLine(x))\n",
    "// Aggregate by key (i.e., month) to compute the sum and the count of temperature values\n",
    "val rddTempDataPerMonth = rddWeatherKv.aggregateByKey((0.0,0.0))((a,v)=>(a._1+v,a._2+1), (a1,a2)=>(a1._1+a2._1,a1._2+a2._2))\n",
    "// Calculate the average temperature in each record\n",
    "val rddAvgTempPerMonth = rddTempDataPerMonth.map({case(k,v) => (k, v._1/v._2)})\n",
    "// Sort, coalesce and cache the result (because it is used twice)\n",
    "val rddCached = rddAvgTempPerMonth.sortByKey().coalesce(1).cache()"
   ]
  },
  {
   "cell_type": "code",
   "execution_count": 4,
   "id": "9621e29d-4c97-4779-b7d1-e5126bce5d42",
   "metadata": {
    "execution": {
     "iopub.execute_input": "2022-03-10T21:26:40.651889Z",
     "iopub.status.busy": "2022-03-10T21:26:40.651672Z",
     "iopub.status.idle": "2022-03-10T21:26:41.945009Z",
     "shell.execute_reply": "2022-03-10T21:26:41.944414Z",
     "shell.execute_reply.started": "2022-03-10T21:26:40.651866Z"
    },
    "tags": []
   },
   "outputs": [
    {
     "data": {
      "application/vnd.jupyter.widget-view+json": {
       "model_id": "129d03a0a0454945bc2b792da9d2ef20",
       "version_major": 2,
       "version_minor": 0
      },
      "text/plain": [
       "VBox()"
      ]
     },
     "metadata": {},
     "output_type": "display_data"
    },
    {
     "data": {
      "application/vnd.jupyter.widget-view+json": {
       "model_id": "",
       "version_major": 2,
       "version_minor": 0
      },
      "text/plain": [
       "FloatProgress(value=0.0, bar_style='info', description='Progress:', layout=Layout(height='25px', width='50%'),…"
      ]
     },
     "metadata": {},
     "output_type": "display_data"
    },
    {
     "name": "stdout",
     "output_type": "stream",
     "text": [
      "res9: Array[(String, Double)] = Array((01,29.764781644286497), (02,52.831468961278425), (03,49.43499927074724), (04,61.3592872169286), (05,55.82656), (06,55.45816479125297), (07,86.90952392350223), (08,79.250958082407), (09,80.51662117371808), (10,106.26454490168254), (11,113.49704495968224), (12,63.9184413544602))\n"
     ]
    }
   ],
   "source": [
    "// Show all the records\n",
    "rddCached.collect()"
   ]
  },
  {
   "cell_type": "code",
   "execution_count": null,
   "id": "b50d2419-c6a0-4616-be1c-c24f09653107",
   "metadata": {
    "execution": {
     "iopub.execute_input": "2022-03-10T21:26:59.651173Z",
     "iopub.status.busy": "2022-03-10T21:26:59.650856Z"
    },
    "tags": []
   },
   "outputs": [
    {
     "data": {
      "application/vnd.jupyter.widget-view+json": {
       "model_id": "11cfb35eeeba4f4b882bf82d9bad008b",
       "version_major": 2,
       "version_minor": 0
      },
      "text/plain": [
       "VBox()"
      ]
     },
     "metadata": {},
     "output_type": "display_data"
    },
    {
     "data": {
      "application/vnd.jupyter.widget-view+json": {
       "model_id": "",
       "version_major": 2,
       "version_minor": 0
      },
      "text/plain": [
       "FloatProgress(value=0.0, bar_style='info', description='Progress:', layout=Layout(height='25px', width='50%'),…"
      ]
     },
     "metadata": {},
     "output_type": "display_data"
    }
   ],
   "source": [
    "rddCached.saveAsTextFile(\"s3a://\"+bucketname+\"/spark/301-2\")"
   ]
  },
  {
   "cell_type": "markdown",
   "id": "a05b8fdd-ef59-4e64-b749-1d9ae50260bc",
   "metadata": {},
   "source": [
    "## 301-3 Spark warm-up\n",
    "\n",
    "Load the ```capra``` and ```divinacommedia``` datasets and try the following actions:\n",
    "- Show their content (```collect```)\n",
    "- Count their rows (```count```)\n",
    "- Split phrases into words (```map``` or ```flatMap```; what’s the difference?)\n",
    "- Check the results (remember: evaluation is lazy)\n",
    "- Try the ```toDebugString``` function to check the execution plan"
   ]
  },
  {
   "cell_type": "code",
   "execution_count": 3,
   "id": "52649088-9a57-437b-9127-0d29984b4e92",
   "metadata": {
    "execution": {
     "iopub.execute_input": "2022-03-13T16:07:10.812891Z",
     "iopub.status.busy": "2022-03-13T16:07:10.812645Z",
     "iopub.status.idle": "2022-03-13T16:07:11.605658Z",
     "shell.execute_reply": "2022-03-13T16:07:11.604941Z",
     "shell.execute_reply.started": "2022-03-13T16:07:10.812859Z"
    },
    "tags": []
   },
   "outputs": [
    {
     "data": {
      "application/vnd.jupyter.widget-view+json": {
       "model_id": "b870e7eed04d4b5fa2aefae1f65081fa",
       "version_major": 2,
       "version_minor": 0
      },
      "text/plain": [
       "VBox()"
      ]
     },
     "metadata": {},
     "output_type": "display_data"
    },
    {
     "data": {
      "application/vnd.jupyter.widget-view+json": {
       "model_id": "",
       "version_major": 2,
       "version_minor": 0
      },
      "text/plain": [
       "FloatProgress(value=0.0, bar_style='info', description='Progress:', layout=Layout(height='25px', width='50%'),…"
      ]
     },
     "metadata": {},
     "output_type": "display_data"
    },
    {
     "name": "stdout",
     "output_type": "stream",
     "text": [
      "rddCapra: org.apache.spark.rdd.RDD[String] = s3a://eg-myfirstbucket/datasets/capra.txt MapPartitionsRDD[10] at textFile at <console>:27\n",
      "rddDC: org.apache.spark.rdd.RDD[String] = s3a://eg-myfirstbucket/datasets/divinacommedia.txt MapPartitionsRDD[12] at textFile at <console>:27\n"
     ]
    }
   ],
   "source": [
    "val rddCapra = sc.textFile(\"s3a://\"+bucketname+\"/datasets/capra.txt\")\n",
    "val rddDC = sc.textFile(\"s3a://\"+bucketname+\"/datasets/divinacommedia.txt\")"
   ]
  },
  {
   "cell_type": "code",
   "execution_count": 11,
   "id": "4d695aad-b99e-455b-b116-3526971ee0f1",
   "metadata": {
    "execution": {
     "iopub.execute_input": "2022-03-08T21:03:16.512237Z",
     "iopub.status.busy": "2022-03-08T21:03:16.512010Z",
     "iopub.status.idle": "2022-03-08T21:03:17.797983Z",
     "shell.execute_reply": "2022-03-08T21:03:17.797377Z",
     "shell.execute_reply.started": "2022-03-08T21:03:16.512214Z"
    },
    "tags": []
   },
   "outputs": [
    {
     "data": {
      "application/vnd.jupyter.widget-view+json": {
       "model_id": "41e8a945513d46999414c6f905bad97b",
       "version_major": 2,
       "version_minor": 0
      },
      "text/plain": [
       "VBox()"
      ]
     },
     "metadata": {},
     "output_type": "display_data"
    },
    {
     "data": {
      "application/vnd.jupyter.widget-view+json": {
       "model_id": "",
       "version_major": 2,
       "version_minor": 0
      },
      "text/plain": [
       "FloatProgress(value=0.0, bar_style='info', description='Progress:', layout=Layout(height='25px', width='50%'),…"
      ]
     },
     "metadata": {},
     "output_type": "display_data"
    },
    {
     "name": "stdout",
     "output_type": "stream",
     "text": [
      "rddCapraWords1: org.apache.spark.rdd.RDD[Array[String]] = MapPartitionsRDD[22] at map at <console>:25\n",
      "res13: Array[Array[String]] = Array(Array(sopra, la, panca, la, capra, campa), Array(sotto, la, panca, la, capra, crepa))\n"
     ]
    }
   ],
   "source": [
    "val rddCapraWords1 = rddCapra.map( x => x.split(\" \") )\n",
    "rddCapraWords1.collect()"
   ]
  },
  {
   "cell_type": "code",
   "execution_count": 12,
   "id": "1731d2a1-2a96-474e-8049-8283d59a325a",
   "metadata": {
    "execution": {
     "iopub.execute_input": "2022-03-08T21:03:21.393800Z",
     "iopub.status.busy": "2022-03-08T21:03:21.393556Z",
     "iopub.status.idle": "2022-03-08T21:03:22.693666Z",
     "shell.execute_reply": "2022-03-08T21:03:22.692934Z",
     "shell.execute_reply.started": "2022-03-08T21:03:21.393777Z"
    },
    "tags": []
   },
   "outputs": [
    {
     "data": {
      "application/vnd.jupyter.widget-view+json": {
       "model_id": "883181b61e5647d8b296b96cac12f9fa",
       "version_major": 2,
       "version_minor": 0
      },
      "text/plain": [
       "VBox()"
      ]
     },
     "metadata": {},
     "output_type": "display_data"
    },
    {
     "data": {
      "application/vnd.jupyter.widget-view+json": {
       "model_id": "",
       "version_major": 2,
       "version_minor": 0
      },
      "text/plain": [
       "FloatProgress(value=0.0, bar_style='info', description='Progress:', layout=Layout(height='25px', width='50%'),…"
      ]
     },
     "metadata": {},
     "output_type": "display_data"
    },
    {
     "name": "stdout",
     "output_type": "stream",
     "text": [
      "rddDC: org.apache.spark.rdd.RDD[String] = s3a://eg-myfirstbucket/first-datasets/divinacommedia.txt MapPartitionsRDD[24] at textFile at <console>:25\n",
      "rddDcWords2: org.apache.spark.rdd.RDD[String] = MapPartitionsRDD[25] at flatMap at <console>:25\n",
      "res14: Array[String] = Array(LA, DIVINA, COMMEDIA, di, Dante, Alighieri, INFERNO, \"\", \"\", \"\", Inferno:, Canto, I, \"\", \"\", \"\", Nel, mezzo, del, cammin, di, nostra, vita, mi, ritrovai, per, una, selva, oscura, ch?, la, diritta, via, era, smarrita., \"\", \"\", Ahi, quanto, a, dir, qual, era, ?, cosa, dura, esta, selva, selvaggia, e, aspra, e, forte, che, nel, pensier, rinova, la, paura!, \"\", \"\", Tant'?, amara, che, poco, ?, pi?, morte;, ma, per, trattar, del, ben, ch'i', vi, trovai,, dir?, de, l'altre, cose, ch'i', v'ho, scorte., \"\", \"\", Io, non, so, ben, ridir, com'i', v'intrai,, tant'era, pien, di, sonno, a, quel, punto, che, la, verace, via, abbandonai., \"\", \"\", Ma, poi, ch'i', fui, al, pi?, d'un, colle, giunto,, l?, dove, terminava, quella, valle, che, m'avea, di, paura, il, cor, compunto...\n"
     ]
    }
   ],
   "source": [
    "val rddDcWords2 = rddDC.flatMap( x => x.split(\" \") )\n",
    "rddDcWords2.collect()"
   ]
  },
  {
   "cell_type": "code",
   "execution_count": 9,
   "id": "1c36b3c7-6b31-47ca-a717-2012cb2fc837",
   "metadata": {
    "execution": {
     "iopub.execute_input": "2022-03-08T20:59:54.578014Z",
     "iopub.status.busy": "2022-03-08T20:59:54.577788Z",
     "iopub.status.idle": "2022-03-08T20:59:55.380899Z",
     "shell.execute_reply": "2022-03-08T20:59:55.380184Z",
     "shell.execute_reply.started": "2022-03-08T20:59:54.577990Z"
    },
    "tags": []
   },
   "outputs": [
    {
     "data": {
      "application/vnd.jupyter.widget-view+json": {
       "model_id": "1ea968f2ced3416cb2da1e4a5f59ca3c",
       "version_major": 2,
       "version_minor": 0
      },
      "text/plain": [
       "VBox()"
      ]
     },
     "metadata": {},
     "output_type": "display_data"
    },
    {
     "data": {
      "application/vnd.jupyter.widget-view+json": {
       "model_id": "",
       "version_major": 2,
       "version_minor": 0
      },
      "text/plain": [
       "FloatProgress(value=0.0, bar_style='info', description='Progress:', layout=Layout(height='25px', width='50%'),…"
      ]
     },
     "metadata": {},
     "output_type": "display_data"
    },
    {
     "name": "stdout",
     "output_type": "stream",
     "text": [
      "rddL: org.apache.spark.rdd.RDD[(String, Int)] = ShuffledRDD[19] at reduceByKey at <console>:28\n",
      "res12: String =\n",
      "(2) ShuffledRDD[19] at reduceByKey at <console>:28 []\n",
      " +-(2) MapPartitionsRDD[18] at map at <console>:27 []\n",
      "    |  MapPartitionsRDD[17] at flatMap at <console>:26 []\n",
      "    |  s3a://eg-myfirstbucket/first-datasets/capra.txt MapPartitionsRDD[12] at textFile at <console>:25 []\n",
      "    |  s3a://eg-myfirstbucket/first-datasets/capra.txt HadoopRDD[11] at textFile at <console>:25 []\n"
     ]
    }
   ],
   "source": [
    "val rddL = rddCapra.\n",
    "   flatMap( x => x.split(\" \") ).\n",
    "   map(x => (x,1)).\n",
    "   reduceByKey((x,y)=>x+y)\n",
    "rddL.toDebugString"
   ]
  },
  {
   "cell_type": "markdown",
   "id": "bb2d9363-3ce0-411b-a826-ee3cceb935a1",
   "metadata": {},
   "source": [
    "## 301-4 From MapReduce to Spark\n",
    "\n",
    "Reproduce on Spark the exercises seen on Hadoop MapReduce on the capra and divinacommedia datasets.\n",
    "\n",
    "- Jobs:\n",
    "  - Count the number of occurrences of each word\n",
    "    - Result: (sopra, 1), (la, 4), …\n",
    "  - Count the number of occurrences of words of given lengths\n",
    "    - Result: (2, 4), (5, 8)\n",
    "  - Count the average length of words given their first letter (hint: check the example in 301-1)\n",
    "    - Result: (s, 5), (l, 2), …\n",
    "  - Return the inverted index of words\n",
    "    - Result: (sopra, (0)), (la, (0, 1)), ...\n",
    "- How does Spark compare with respect to MapReduce? (performance, ease of use)\n",
    "- How is the output sorted? How can you sort by value?"
   ]
  },
  {
   "cell_type": "code",
   "execution_count": 14,
   "id": "2d39ced5-45b9-4f7b-a679-6897e76f31ae",
   "metadata": {
    "execution": {
     "iopub.execute_input": "2022-03-08T21:04:55.845260Z",
     "iopub.status.busy": "2022-03-08T21:04:55.845036Z",
     "iopub.status.idle": "2022-03-08T21:04:59.215325Z",
     "shell.execute_reply": "2022-03-08T21:04:59.212766Z",
     "shell.execute_reply.started": "2022-03-08T21:04:55.845236Z"
    },
    "tags": []
   },
   "outputs": [
    {
     "data": {
      "application/vnd.jupyter.widget-view+json": {
       "model_id": "67c217e6317946068caf3fc6d4c41b6e",
       "version_major": 2,
       "version_minor": 0
      },
      "text/plain": [
       "VBox()"
      ]
     },
     "metadata": {},
     "output_type": "display_data"
    },
    {
     "data": {
      "application/vnd.jupyter.widget-view+json": {
       "model_id": "",
       "version_major": 2,
       "version_minor": 0
      },
      "text/plain": [
       "FloatProgress(value=0.0, bar_style='info', description='Progress:', layout=Layout(height='25px', width='50%'),…"
      ]
     },
     "metadata": {},
     "output_type": "display_data"
    },
    {
     "name": "stdout",
     "output_type": "stream",
     "text": [
      "rddMap: org.apache.spark.rdd.RDD[(String, Int)] = MapPartitionsRDD[27] at map at <console>:27\n",
      "res19: Array[(String, Int)] = Array((sopra,1), (la,1), (panca,1), (la,1), (capra,1))\n",
      "rddReduce: org.apache.spark.rdd.RDD[(String, Int)] = ShuffledRDD[28] at reduceByKey at <console>:26\n",
      "res21: Array[(String, Int)] = Array((campa,1), (la,4), (panca,2), (sotto,1), (crepa,1), (sopra,1), (capra,2))\n",
      "rddMap: org.apache.spark.rdd.RDD[(String, Int)] = MapPartitionsRDD[29] at map at <console>:26\n",
      "res23: Array[(String, Int)] = Array((LA,1), (DIVINA,1), (COMMEDIA,1), (di,1), (Dante,1))\n",
      "rddReduce: org.apache.spark.rdd.RDD[(String, Int)] = ShuffledRDD[30] at reduceByKey at <console>:26\n",
      "res25: Array[(String, Int)] = Array((grand'avello,,1), (diseta,1), (vane.,1), (tonda,3), (blandimenti;,1), (sapore,1), (dando,3), (Verrucchio,,1), (Mantua,1), (m'apparvero,1), (disiderate,1), (dole,1), (moventi,1), (rincalzi,1), (freni,,1), (Voglia,1), (focina,1), (tormento,5), (s?:,2), (marino,,1), (scalz?,1), (pensassi,1), (esser,,2), (rade,2), (prava\".,1), (Forese,,1), (forti,4), (rossi:,1), (richiuso\".,1), (\"Segnor,1), (rota.,1), (\"ver',1), (pronti,1), (tr'ambo,2), (ch'ode,1), (chiari,,1), (lontana?\".,1), (rinovelle.,1), (perdonasse,1), (Pluto,,1), (falsai,2), (nova,,3), (sparito,,1), (stampa,,1), (doglia,7), (regina,3), (pianto;,2), (Alto,2), (giovinezza.,1), (quell'albor,1), (asciutto,,1), (ch'ello,1), (padre,,14), (coperchio,3), (vite,4), (Anassagora,1), (dormia,,1), (consum?,1),...\n"
     ]
    }
   ],
   "source": [
    "// Word count\n",
    "\n",
    "val rddMap = rddCapra.flatMap( x => x.split(\" \") ).map( x => (x,1))\n",
    "rddMap.take(5)\n",
    "\n",
    "val rddReduce = rddMap.reduceByKey((x,y) => x + y)\n",
    "rddReduce.collect()\n",
    "\n",
    "val rddMap = rddDC.flatMap( x => x.split(\" \") ).map( x => (x,1))\n",
    "rddMap.take(5)\n",
    "\n",
    "val rddReduce = rddMap.reduceByKey((x,y) => x + y)\n",
    "rddReduce.collect()"
   ]
  },
  {
   "cell_type": "code",
   "execution_count": 15,
   "id": "e141737a-283d-412e-97f6-a53004180a75",
   "metadata": {
    "execution": {
     "iopub.execute_input": "2022-03-08T21:06:05.867402Z",
     "iopub.status.busy": "2022-03-08T21:06:05.867076Z",
     "iopub.status.idle": "2022-03-08T21:06:08.165909Z",
     "shell.execute_reply": "2022-03-08T21:06:08.165290Z",
     "shell.execute_reply.started": "2022-03-08T21:06:05.867365Z"
    },
    "tags": []
   },
   "outputs": [
    {
     "data": {
      "application/vnd.jupyter.widget-view+json": {
       "model_id": "dad33751bbd440f68d8676fcad1d0876",
       "version_major": 2,
       "version_minor": 0
      },
      "text/plain": [
       "VBox()"
      ]
     },
     "metadata": {},
     "output_type": "display_data"
    },
    {
     "data": {
      "application/vnd.jupyter.widget-view+json": {
       "model_id": "",
       "version_major": 2,
       "version_minor": 0
      },
      "text/plain": [
       "FloatProgress(value=0.0, bar_style='info', description='Progress:', layout=Layout(height='25px', width='50%'),…"
      ]
     },
     "metadata": {},
     "output_type": "display_data"
    },
    {
     "name": "stdout",
     "output_type": "stream",
     "text": [
      "rddMap: org.apache.spark.rdd.RDD[(Int, Int)] = MapPartitionsRDD[32] at map at <console>:27\n",
      "res28: Array[(Int, Int)] = Array((2,1), (6,1), (8,1), (2,1), (5,1), (9,1), (7,1), (0,1), (0,1), (0,1), (8,1), (5,1), (1,1), (0,1), (0,1), (0,1), (3,1), (5,1), (3,1), (6,1), (2,1), (6,1), (4,1), (2,1), (8,1), (3,1), (3,1), (5,1), (6,1), (3,1), (2,1), (7,1), (3,1), (3,1), (9,1), (0,1), (0,1), (3,1), (6,1), (1,1), (3,1), (4,1), (3,1), (1,1), (4,1), (4,1), (4,1), (5,1), (9,1), (1,1), (5,1), (1,1), (5,1), (3,1), (3,1), (7,1), (6,1), (2,1), (6,1), (0,1), (0,1), (6,1), (5,1), (3,1), (4,1), (1,1), (3,1), (6,1), (2,1), (3,1), (7,1), (3,1), (3,1), (5,1), (2,1), (7,1), (4,1), (2,1), (7,1), (4,1), (5,1), (4,1), (7,1), (0,1), (0,1), (2,1), (3,1), (2,1), (3,1), (5,1), (6,1), (9,1), (8,1), (4,1), (2,1), (5,1), (1,1), (4,1), (5,1), (3,1), (2,1), (6,1), (3,1), (11,1), (0,1), (0,1), (2,1), (3,1), (5,1), ...\n",
      "rddReduce: org.apache.spark.rdd.RDD[(Int, Int)] = ShuffledRDD[33] at reduceByKey at <console>:26\n",
      "res30: Array[(Int, Int)] = Array((4,9111), (16,3), (14,50), (0,10684), (6,11775), (8,5363), (12,370), (10,1741), (2,19258), (13,154), (15,18), (11,933), (1,6992), (17,1), (3,16887), (7,7379), (9,3231), (5,13504))\n"
     ]
    }
   ],
   "source": [
    "// Word length count\n",
    "\n",
    "val rddMap = rddDC.flatMap( x => x.split(\" \") ).map( x => (x.length,1))\n",
    "rddMap.collect()\n",
    "\n",
    "val rddReduce = rddMap.reduceByKey((x,y) => x + y)\n",
    "rddReduce.collect()"
   ]
  },
  {
   "cell_type": "code",
   "execution_count": 17,
   "id": "9ab4132f-114c-4d97-acc6-a2d53730a0d1",
   "metadata": {
    "execution": {
     "iopub.execute_input": "2022-03-08T21:06:56.095397Z",
     "iopub.status.busy": "2022-03-08T21:06:56.095157Z",
     "iopub.status.idle": "2022-03-08T21:06:58.429923Z",
     "shell.execute_reply": "2022-03-08T21:06:58.428109Z",
     "shell.execute_reply.started": "2022-03-08T21:06:56.095371Z"
    },
    "tags": []
   },
   "outputs": [
    {
     "data": {
      "application/vnd.jupyter.widget-view+json": {
       "model_id": "0b2ffd24f6a74a078fe68afb1b9bd316",
       "version_major": 2,
       "version_minor": 0
      },
      "text/plain": [
       "VBox()"
      ]
     },
     "metadata": {},
     "output_type": "display_data"
    },
    {
     "data": {
      "application/vnd.jupyter.widget-view+json": {
       "model_id": "",
       "version_major": 2,
       "version_minor": 0
      },
      "text/plain": [
       "FloatProgress(value=0.0, bar_style='info', description='Progress:', layout=Layout(height='25px', width='50%'),…"
      ]
     },
     "metadata": {},
     "output_type": "display_data"
    },
    {
     "name": "stdout",
     "output_type": "stream",
     "text": [
      "rddMap: org.apache.spark.rdd.RDD[(String, Int)] = MapPartitionsRDD[41] at map at <console>:29\n",
      "res40: Array[(String, Int)] = Array((l,2), (d,6), (c,8), (d,2), (d,5), (a,9), (i,7), (i,8), (c,5), (i,1), (n,3), (m,5), (d,3), (c,6), (d,2), (n,6), (v,4), (m,2), (r,8), (p,3), (u,3), (s,5), (o,6), (c,3), (l,2), (d,7), (v,3), (e,3), (s,9), (a,3), (q,6), (a,1), (d,3), (q,4), (e,3), (?,1), (c,4), (d,4), (e,4), (s,5), (s,9), (e,1), (a,5), (e,1), (f,5), (c,3), (n,3), (p,7), (r,6), (l,2), (p,6), (t,6), (a,5), (c,3), (p,4), (?,1), (p,3), (m,6), (m,2), (p,3), (t,7), (d,3), (b,3), (c,5), (v,2), (t,7), (d,4), (d,2), (l,7), (c,4), (c,5), (v,4), (s,7), (i,2), (n,3), (s,2), (b,3), (r,5), (c,6), (v,9), (t,8), (p,4), (d,2), (s,5), (a,1), (q,4), (p,5), (c,3), (l,2), (v,6), (v,3), (a,11), (m,2), (p,3), (c,5), (f,3), (a,2), (p,3), (d,4), (c,5), (g,7), (l,2), (d,4), (t,9), (q,6), (v,5), (c,3), (m,6), (d,2...\n",
      "rddReduce: org.apache.spark.rdd.RDD[(String, (Double, Double))] = ShuffledRDD[42] at aggregateByKey at <console>:26\n",
      "res42: Array[(String, (Double, Double))] = Array((d,(35418.0,8265.0)), (z,(146.0,25.0)), (\",(5511.0,1118.0)), (p,(40075.0,7806.0)), (x,(269.0,73.0)), (t,(20600.0,4333.0)), (b,(7774.0,1340.0)), (.,(3.0,3.0)), (h,(522.0,187.0)), (n,(13926.0,3734.0)), (f,(19621.0,3937.0)), (j,(9.0,2.0)), (v,(22130.0,4177.0)), ((,(13.0,3.0)), (:,(5.0,5.0)), (,,(20.0,20.0)), (l,(32646.0,8619.0)), (r,(14486.0,2058.0)), (',(4116.0,1441.0)), (s,(47160.0,9715.0)), (e,(9812.0,5290.0)), (a,(21529.0,5444.0)), (i,(12063.0,3536.0)), (;,(1.0,1.0)), (u,(3069.0,804.0)), (o,(6810.0,1575.0)), (!,(27.0,10.0)), (q,(16171.0,2936.0)), (-,(24.0,18.0)), (?,(588.0,546.0)), (?,(3.0,1.0)), (g,(12721.0,2239.0)), (m,(25294.0,5540.0)), (c,(57007.0,11969.0)))\n",
      "rddFinal: org.apache.spark.rdd.RDD[(String, Double)] = MapPartitionsRDD[43] at mapValues at <console>:26\n",
      "res44: Array[(String, Double)] = Array((d,4.28529945553539), (z,5.84), (\",4.9293381037567086), (p,5.133871380988983), (x,3.684931506849315), (t,4.7542118624509575), (b,5.8014925373134325), (.,1.0), (h,2.7914438502673797), (n,3.729512587038029), (f,4.983743967487935), (j,4.5), (v,5.298060809193201), ((,4.333333333333333), (:,1.0), (,,1.0), (l,3.7876783849634528), (r,7.038872691933917), (',2.856349757113116), (s,4.8543489449305195), (e,1.854820415879017), (a,3.9546289493019837), (i,3.411481900452489), (;,1.0), (u,3.8171641791044775), (o,4.3238095238095235), (!,2.7), (q,5.50783378746594), (-,1.3333333333333333), (?,1.0769230769230769), (?,3.0), (g,5.681554265297008), (m,4.565703971119134), (c,4.7628874592697805))\n"
     ]
    }
   ],
   "source": [
    "// Average word length by initial\n",
    "\n",
    "val rddMap = rddDC.flatMap( x => x.split(\" \") ).\n",
    "  filter( _.length>0 ).\n",
    "  map( x => (x.substring(0,1).toLowerCase, x.length))\n",
    "rddMap.collect()\n",
    "\n",
    "val rddReduce = rddMap.aggregateByKey((0.0,0.0))((a,v)=>(a._1+v,a._2+1), (a1,a2)=>(a1._1+a2._1,a1._2+a2._2))\n",
    "rddReduce.collect()\n",
    "\n",
    "val rddFinal = rddReduce.mapValues(v => v._1/v._2)\n",
    "rddFinal.collect()"
   ]
  },
  {
   "cell_type": "code",
   "execution_count": 5,
   "id": "40a0f9e3-6bcf-4018-b6b1-ae1ef0a61ccf",
   "metadata": {
    "execution": {
     "iopub.execute_input": "2022-03-13T16:07:28.217238Z",
     "iopub.status.busy": "2022-03-13T16:07:28.217017Z",
     "iopub.status.idle": "2022-03-13T16:07:30.995128Z",
     "shell.execute_reply": "2022-03-13T16:07:30.991458Z",
     "shell.execute_reply.started": "2022-03-13T16:07:28.217214Z"
    },
    "tags": []
   },
   "outputs": [
    {
     "data": {
      "application/vnd.jupyter.widget-view+json": {
       "model_id": "5d2c4d6335e540e6a8951bac805c093d",
       "version_major": 2,
       "version_minor": 0
      },
      "text/plain": [
       "VBox()"
      ]
     },
     "metadata": {},
     "output_type": "display_data"
    },
    {
     "data": {
      "application/vnd.jupyter.widget-view+json": {
       "model_id": "",
       "version_major": 2,
       "version_minor": 0
      },
      "text/plain": [
       "FloatProgress(value=0.0, bar_style='info', description='Progress:', layout=Layout(height='25px', width='50%'),…"
      ]
     },
     "metadata": {},
     "output_type": "display_data"
    },
    {
     "name": "stdout",
     "output_type": "stream",
     "text": [
      "rddMap: org.apache.spark.rdd.RDD[(String, Long)] = ZippedWithIndexRDD[17] at zipWithIndex at <console>:27\n",
      "res14: Array[(String, Long)] = Array((sopra,0), (la,1), (panca,2), (la,3), (capra,4), (campa,5), (sotto,6), (la,7), (panca,8), (la,9), (capra,10), (crepa,11))\n",
      "rddGroup: org.apache.spark.rdd.RDD[(String, Iterable[Long])] = ShuffledRDD[18] at groupByKey at <console>:26\n",
      "res16: Array[(String, Iterable[Long])] = Array((campa,CompactBuffer(5)), (la,CompactBuffer(1, 3, 7, 9)), (panca,CompactBuffer(2, 8)), (sotto,CompactBuffer(6)), (crepa,CompactBuffer(11)), (sopra,CompactBuffer(0)), (capra,CompactBuffer(4, 10)))\n"
     ]
    }
   ],
   "source": [
    "// Inverted index (word-based offset)\n",
    "\n",
    "val rddMap = rddCapra.flatMap( x => x.split(\" \") ).zipWithIndex()\n",
    "rddMap.collect()\n",
    "\n",
    "val rddGroup = rddMap.groupByKey()\n",
    "rddGroup.collect()"
   ]
  },
  {
   "cell_type": "code",
   "execution_count": 18,
   "id": "080be4bd-c8d1-4908-90a5-06df1f165a2e",
   "metadata": {
    "execution": {
     "iopub.execute_input": "2022-03-13T16:20:08.615017Z",
     "iopub.status.busy": "2022-03-13T16:20:08.614772Z",
     "iopub.status.idle": "2022-03-13T16:20:09.899964Z",
     "shell.execute_reply": "2022-03-13T16:20:09.899381Z",
     "shell.execute_reply.started": "2022-03-13T16:20:08.614993Z"
    },
    "tags": []
   },
   "outputs": [
    {
     "data": {
      "application/vnd.jupyter.widget-view+json": {
       "model_id": "ca84d8a7006e49af8a9d82549cbf938a",
       "version_major": 2,
       "version_minor": 0
      },
      "text/plain": [
       "VBox()"
      ]
     },
     "metadata": {},
     "output_type": "display_data"
    },
    {
     "data": {
      "application/vnd.jupyter.widget-view+json": {
       "model_id": "",
       "version_major": 2,
       "version_minor": 0
      },
      "text/plain": [
       "FloatProgress(value=0.0, bar_style='info', description='Progress:', layout=Layout(height='25px', width='50%'),…"
      ]
     },
     "metadata": {},
     "output_type": "display_data"
    },
    {
     "name": "stdout",
     "output_type": "stream",
     "text": [
      "rddMap: org.apache.spark.rdd.RDD[(String, Long)] = MapPartitionsRDD[82] at distinct at <console>:28\n",
      "res72: Array[(String, Long)] = Array((la,0), (capra,0), (la,1), (sotto,1), (sopra,0), (capra,1), (panca,1), (crepa,1), (campa,0), (panca,0))\n",
      "rddGroup: org.apache.spark.rdd.RDD[(String, Iterable[Long])] = ShuffledRDD[83] at groupByKey at <console>:27\n",
      "res74: Array[(String, Iterable[Long])] = Array((campa,CompactBuffer(0)), (la,CompactBuffer(0, 1)), (panca,CompactBuffer(1, 0)), (sotto,CompactBuffer(1)), (crepa,CompactBuffer(1)), (sopra,CompactBuffer(0)), (capra,CompactBuffer(0, 1)))\n"
     ]
    }
   ],
   "source": [
    "// Inverted index (sentence-based offset)\n",
    "val rddMap = rddCapra.zipWithIndex().\n",
    "    flatMap({case (k,v)=> k.split(\" \").map(x=>(x,v))}).\n",
    "    distinct()\n",
    "rddMap.collect()\n",
    "\n",
    "val rddGroup = rddMap.groupByKey()\n",
    "rddGroup.collect()"
   ]
  },
  {
   "cell_type": "code",
   "execution_count": 14,
   "id": "ad57954f-60c5-44b5-8035-033af02df7aa",
   "metadata": {
    "execution": {
     "iopub.execute_input": "2022-03-13T16:15:48.506540Z",
     "iopub.status.busy": "2022-03-13T16:15:48.506285Z",
     "iopub.status.idle": "2022-03-13T16:15:59.848542Z",
     "shell.execute_reply": "2022-03-13T16:15:59.847915Z",
     "shell.execute_reply.started": "2022-03-13T16:15:48.506515Z"
    },
    "tags": []
   },
   "outputs": [
    {
     "data": {
      "application/vnd.jupyter.widget-view+json": {
       "model_id": "97892451cacd4dff81f95e13bf172f2e",
       "version_major": 2,
       "version_minor": 0
      },
      "text/plain": [
       "VBox()"
      ]
     },
     "metadata": {},
     "output_type": "display_data"
    },
    {
     "data": {
      "application/vnd.jupyter.widget-view+json": {
       "model_id": "",
       "version_major": 2,
       "version_minor": 0
      },
      "text/plain": [
       "FloatProgress(value=0.0, bar_style='info', description='Progress:', layout=Layout(height='25px', width='50%'),…"
      ]
     },
     "metadata": {},
     "output_type": "display_data"
    },
    {
     "name": "stdout",
     "output_type": "stream",
     "text": [
      "import org.apache.spark.HashPartitioner\n",
      "p: org.apache.spark.HashPartitioner = org.apache.spark.HashPartitioner@8\n",
      "rddMap: org.apache.spark.rdd.RDD[(String, Long)] = MapPartitionsRDD[63] at distinct at <console>:32\n",
      "res59: Array[(String, Long)] = Array((chiuder,4459), (che,6723), (era,,12427), (\"\",9109), (ragionando,8297), (Naiade,,9726), (vidi,13635), (Cancro,13513), (\"\",5314), (noi,3707), (\"\",3986), (lui,2878), (occhi,9695), (\"\",4588), (volta,12193), (voi,11677), (\"\",14088), (\"\",2483), (china',702), (per?,8677), (\"\",12522), (terra,14121), (\"Aspetta,3180), (che,12145), (\"\",9439), (nomava,12175), (che,6064), (\"Gentucca\",8332), (Catria,,12912), (\"\",4395), (sogna.,9710), (dicendo:,1896), (occhi,264), (\"\",9475), (\"\",1808), (sembianti,,11387), (\"\",10138), (col,3183), (vidi,2114), (\"\",11963), (tutti,7587), (l'ombra,5271), (\"\",12807), (terra,5735), (\"\",4144), (ritornaro,9587), (\"\",3938), (figliuoli,6569), (\"\",12414), (disciolto,,7566), (\"Con,1031), (\"\",8494), (mutua,11518), (\"\",10063), (che,12674), (me,9...\n",
      "rddGroup: org.apache.spark.rdd.RDD[(String, Iterable[Long])] = MapPartitionsRDD[64] at groupByKey at <console>:27\n",
      "res61: String =\n",
      "(8) MapPartitionsRDD[64] at groupByKey at <console>:27 []\n",
      " |  MapPartitionsRDD[63] at distinct at <console>:32 []\n",
      " |  ShuffledRDD[62] at partitionBy at <console>:32 []\n",
      " +-(2) MapPartitionsRDD[61] at map at <console>:31 []\n",
      "    |  MapPartitionsRDD[60] at flatMapValues at <console>:30 []\n",
      "    |  MapPartitionsRDD[59] at map at <console>:29 []\n",
      "    |  ZippedWithIndexRDD[58] at zipWithIndex at <console>:28 []\n",
      "    |  s3a://eg-myfirstbucket/datasets/divinacommedia.txt MapPartitionsRDD[12] at textFile at <console>:27 []\n",
      "    |  s3a://eg-myfirstbucket/datasets/divinacommedia.txt HadoopRDD[11] at textFile at <console>:27 []\n"
     ]
    }
   ],
   "source": [
    "// Inverted index (sentence-based offset) alternative\n",
    "val rddMap = rddCapra.zipWithIndex().\n",
    "    map({case (k,v)=>(v,k)}).\n",
    "    flatMapValues( x => x.split(\" \") ).\n",
    "    map({case (k,v)=>(v,k)}).\n",
    "    distinct()\n",
    "rddMap.collect()\n",
    "\n",
    "val rddGroup = rddMap.groupByKey()\n",
    "rddGroup.collect()"
   ]
  },
  {
   "cell_type": "code",
   "execution_count": null,
   "id": "f934ef2c-6956-442a-b869-93f65425bda4",
   "metadata": {},
   "outputs": [],
   "source": [
    "// Sort an RDD by key\n",
    "\n",
    "rdd.sortByKey()\n",
    "\n",
    "// Sort an RDD by value\n",
    "\n",
    "rdd.map({case(k,v) => (v,k)}).sortByKey()"
   ]
  }
 ],
 "metadata": {
  "kernelspec": {
   "display_name": "Spark",
   "language": "",
   "name": "sparkkernel"
  },
  "language_info": {
   "codemirror_mode": "text/x-scala",
   "mimetype": "text/x-scala",
   "name": "scala",
   "pygments_lexer": "scala"
  }
 },
 "nbformat": 4,
 "nbformat_minor": 5
}
